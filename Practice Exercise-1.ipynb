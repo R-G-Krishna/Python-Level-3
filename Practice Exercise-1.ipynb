{
 "cells": [
  {
   "cell_type": "markdown",
   "metadata": {},
   "source": [
    "# Problem6"
   ]
  },
  {
   "cell_type": "code",
   "execution_count": 7,
   "metadata": {},
   "outputs": [
    {
     "name": "stdout",
     "output_type": "stream",
     "text": [
      "5\n",
      "1 2 3 4 5\n",
      "120\n"
     ]
    }
   ],
   "source": [
    "a=int(input())\n",
    "n=input()\n",
    "k=n.split(\" \")\n",
    "if len(k)==a:\n",
    "    c=a\n",
    "    f=1\n",
    "    for i in range(1,a+1):\n",
    "        if i<c:\n",
    "            f=f*int(k[int(i)])\n",
    "    print(f)"
   ]
  },
  {
   "cell_type": "markdown",
   "metadata": {},
   "source": [
    "# Problem7"
   ]
  },
  {
   "cell_type": "code",
   "execution_count": 10,
   "metadata": {},
   "outputs": [
    {
     "name": "stdout",
     "output_type": "stream",
     "text": [
      "4\n",
      "*   *\n",
      "*   *\n",
      "*****\n",
      "*   *\n",
      "*   *\n",
      "*****\n",
      "*   *\n",
      "*   *\n",
      "*****\n",
      "*   *\n",
      "*   *\n",
      "*****\n",
      "*   *\n",
      "*   *\n"
     ]
    }
   ],
   "source": [
    "d=int(input())\n",
    "for i in range(1,d+1):\n",
    "    print(\"*   *\\n*   *\")\n",
    "    if i<d:\n",
    "        print(\"*****\")\n",
    "    else:\n",
    "        print(\"*****\\n*   *\\n*   *\")"
   ]
  },
  {
   "cell_type": "markdown",
   "metadata": {},
   "source": [
    "# Problem5"
   ]
  },
  {
   "cell_type": "code",
   "execution_count": 15,
   "metadata": {},
   "outputs": [
    {
     "name": "stdout",
     "output_type": "stream",
     "text": [
      "5\n",
      "2 6 7 7 8\n",
      "7\n"
     ]
    }
   ],
   "source": [
    "p=int(input())\n",
    "q=input()\n",
    "l=q.split(\" \")\n",
    "k=[]\n",
    "if len(l)==p:\n",
    "    for i in l:\n",
    "        if i not in k:\n",
    "            k.append(i)\n",
    "k.sort()\n",
    "k.remove(max(k))\n",
    "print(max(k))\n"
   ]
  },
  {
   "cell_type": "code",
   "execution_count": null,
   "metadata": {},
   "outputs": [],
   "source": []
  },
  {
   "cell_type": "code",
   "execution_count": null,
   "metadata": {},
   "outputs": [],
   "source": []
  },
  {
   "cell_type": "markdown",
   "metadata": {},
   "source": [
    "# Problem1"
   ]
  },
  {
   "cell_type": "code",
   "execution_count": 7,
   "metadata": {},
   "outputs": [
    {
     "name": "stdout",
     "output_type": "stream",
     "text": [
      "Enter Hours:45\n",
      "Enter the Rate:10.50\n",
      "498.75\n"
     ]
    }
   ],
   "source": [
    "x= int(input(\"Enter Hours:\"))\n",
    "y= float(input(\"Enter the Rate:\"))\n",
    "if (40>=x):\n",
    "    z=x*y\n",
    "    print(z)\n",
    "elif (x>40):\n",
    "    j=40*y\n",
    "    k=(x-40)*1.5*y\n",
    "    print(j+k)"
   ]
  },
  {
   "cell_type": "markdown",
   "metadata": {},
   "source": [
    "# Problem3"
   ]
  },
  {
   "cell_type": "code",
   "execution_count": 19,
   "metadata": {},
   "outputs": [
    {
     "name": "stdout",
     "output_type": "stream",
     "text": [
      "X-DSPAM-Confidence:  gfgd:dhf:gjjjt:   0.8475\n",
      "   0.8475\n"
     ]
    }
   ],
   "source": [
    "text=input(\"\")\n",
    "a=text.split(\":\")\n",
    "l=list(a)\n",
    "b=l[::-1]\n",
    "print(b[0])"
   ]
  },
  {
   "cell_type": "code",
   "execution_count": null,
   "metadata": {},
   "outputs": [],
   "source": []
  }
 ],
 "metadata": {
  "kernelspec": {
   "display_name": "Python 3",
   "language": "python",
   "name": "python3"
  },
  "language_info": {
   "codemirror_mode": {
    "name": "ipython",
    "version": 3
   },
   "file_extension": ".py",
   "mimetype": "text/x-python",
   "name": "python",
   "nbconvert_exporter": "python",
   "pygments_lexer": "ipython3",
   "version": "3.7.3"
  }
 },
 "nbformat": 4,
 "nbformat_minor": 2
}
