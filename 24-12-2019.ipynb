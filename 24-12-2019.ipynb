{
 "cells": [
  {
   "cell_type": "markdown",
   "metadata": {},
   "source": [
    "## MATRIX\n",
    " - Matrix Multipliclation\n",
    "   - multiplication of two matrix\n",
    "   - dot functionality uses\n",
    " - Matrix Addition\n",
    "   - Addition of two matrix with same shape\n",
    " - Matrix Transpose\n",
    "   - Changes rows to columns and columns to rows\n",
    " - Ravel\n",
    "   - Ravel return reference/view of original array where as\n",
    "   - If you modify the array you would notice that the value of original array also changes by using.\n",
    " - Flatten\n",
    "   - Flatten returns copy of original array\n",
    "   - If you moidify the array you would  notice that the value of original array not changes.\n",
    " - Argmin\n",
    "   - Argmin function return index position of the minimum value in array based on axis(0,1)\n",
    " - Argmax\n",
    "   - Argmax function return index position of the maximum value in array based on axis(0,1)\n",
    " - Vstack\n",
    "   - Vstack function return vertical array \n",
    " - Hstack\n",
    "   - Hstack function return horizontal array \n",
    "   "
   ]
  },
  {
   "cell_type": "code",
   "execution_count": 1,
   "metadata": {},
   "outputs": [],
   "source": [
    "import numpy as np"
   ]
  },
  {
   "cell_type": "code",
   "execution_count": 23,
   "metadata": {},
   "outputs": [
    {
     "data": {
      "text/plain": [
       "array([[1, 7, 6],\n",
       "       [5, 6, 8]])"
      ]
     },
     "execution_count": 23,
     "metadata": {},
     "output_type": "execute_result"
    }
   ],
   "source": [
    "a= np.array([[1,7,6],[5,6,8]])\n",
    "a"
   ]
  },
  {
   "cell_type": "code",
   "execution_count": 24,
   "metadata": {},
   "outputs": [
    {
     "data": {
      "text/plain": [
       "array([[ 3,  8,  9],\n",
       "       [67, 89,  8]])"
      ]
     },
     "execution_count": 24,
     "metadata": {},
     "output_type": "execute_result"
    }
   ],
   "source": [
    "b= np.array([[3,8,9],[67,89,8]])\n",
    "b"
   ]
  },
  {
   "cell_type": "code",
   "execution_count": 25,
   "metadata": {},
   "outputs": [
    {
     "ename": "ValueError",
     "evalue": "shapes (2,3) and (2,3) not aligned: 3 (dim 1) != 2 (dim 0)",
     "output_type": "error",
     "traceback": [
      "\u001b[1;31m---------------------------------------------------------------------------\u001b[0m",
      "\u001b[1;31mValueError\u001b[0m                                Traceback (most recent call last)",
      "\u001b[1;32m<ipython-input-25-ac6884f5cff1>\u001b[0m in \u001b[0;36m<module>\u001b[1;34m\u001b[0m\n\u001b[1;32m----> 1\u001b[1;33m \u001b[0ma\u001b[0m\u001b[1;33m.\u001b[0m\u001b[0mdot\u001b[0m\u001b[1;33m(\u001b[0m\u001b[0mb\u001b[0m\u001b[1;33m)\u001b[0m\u001b[1;33m\u001b[0m\u001b[1;33m\u001b[0m\u001b[0m\n\u001b[0m",
      "\u001b[1;31mValueError\u001b[0m: shapes (2,3) and (2,3) not aligned: 3 (dim 1) != 2 (dim 0)"
     ]
    }
   ],
   "source": [
    "a.dot(b)"
   ]
  },
  {
   "cell_type": "code",
   "execution_count": 21,
   "metadata": {},
   "outputs": [
    {
     "data": {
      "text/plain": [
       "array([ 1,  2,  3,  6,  7,  8, 29, 19, 67, 50])"
      ]
     },
     "execution_count": 21,
     "metadata": {},
     "output_type": "execute_result"
    }
   ],
   "source": [
    "e=np.array([1,2,3,6,7,8,29,19,34,50])\n",
    "e[-2]=67\n",
    "e"
   ]
  },
  {
   "cell_type": "code",
   "execution_count": 26,
   "metadata": {},
   "outputs": [
    {
     "data": {
      "text/plain": [
       "array([[ 4, 15, 15],\n",
       "       [72, 95, 16]])"
      ]
     },
     "execution_count": 26,
     "metadata": {},
     "output_type": "execute_result"
    }
   ],
   "source": [
    "a+b"
   ]
  },
  {
   "cell_type": "code",
   "execution_count": 39,
   "metadata": {},
   "outputs": [
    {
     "ename": "ValueError",
     "evalue": "axes don't match array",
     "output_type": "error",
     "traceback": [
      "\u001b[1;31m---------------------------------------------------------------------------\u001b[0m",
      "\u001b[1;31mValueError\u001b[0m                                Traceback (most recent call last)",
      "\u001b[1;32m<ipython-input-39-d4e34d9aa53f>\u001b[0m in \u001b[0;36m<module>\u001b[1;34m\u001b[0m\n\u001b[1;32m----> 1\u001b[1;33m \u001b[0mb\u001b[0m\u001b[1;33m.\u001b[0m\u001b[0mtranspose\u001b[0m\u001b[1;33m(\u001b[0m\u001b[1;36m3\u001b[0m\u001b[1;33m,\u001b[0m\u001b[1;36m2\u001b[0m\u001b[1;33m,\u001b[0m\u001b[1;36m2\u001b[0m\u001b[1;33m)\u001b[0m\u001b[1;33m\u001b[0m\u001b[1;33m\u001b[0m\u001b[0m\n\u001b[0m",
      "\u001b[1;31mValueError\u001b[0m: axes don't match array"
     ]
    }
   ],
   "source": [
    "b.transpose(3,2,2)"
   ]
  },
  {
   "cell_type": "code",
   "execution_count": 48,
   "metadata": {},
   "outputs": [
    {
     "data": {
      "text/plain": [
       "array([[1, 2, 3, 4],\n",
       "       [4, 5, 6, 7],\n",
       "       [7, 6, 8, 6],\n",
       "       [7, 2, 4, 5]])"
      ]
     },
     "execution_count": 48,
     "metadata": {},
     "output_type": "execute_result"
    }
   ],
   "source": [
    "arr1=np.array([[1,2,3,4],[4,5,6,7]])\n",
    "arr2=np.array([[7,6,8,6],[7,2,4,5]])\n",
    "c=np.concatenate([arr1,arr2],axis=0)\n",
    "c"
   ]
  },
  {
   "cell_type": "code",
   "execution_count": 69,
   "metadata": {},
   "outputs": [
    {
     "name": "stdout",
     "output_type": "stream",
     "text": [
      "[[1 2 3]\n",
      " [4 5 6]\n",
      " [7 8 9]] [1 2 3 4 5 6 7 8 9]\n",
      "[[ 1  2  3]\n",
      " [ 4  5  6]\n",
      " [ 7  8 10]]\n",
      "[ 1  2  3  4  5  6  7  8 10]\n"
     ]
    }
   ],
   "source": [
    "f=np.array([[1,2,3],[4,5,6],[7,8,9]])\n",
    "g=np.ravel(f)\n",
    "print(f,g)\n",
    "g[-1]=10\n",
    "print(f)\n",
    "print(g)"
   ]
  },
  {
   "cell_type": "code",
   "execution_count": 70,
   "metadata": {},
   "outputs": [
    {
     "data": {
      "text/plain": [
       "(array([[ 1,  2,  3],\n",
       "        [ 4,  5,  6],\n",
       "        [12,  8, 10]]), array([ 1,  2,  3,  4,  5,  6, 12,  8, 10]))"
      ]
     },
     "execution_count": 70,
     "metadata": {},
     "output_type": "execute_result"
    }
   ],
   "source": [
    "f[2][0]=12\n",
    "f,g"
   ]
  },
  {
   "cell_type": "code",
   "execution_count": 78,
   "metadata": {},
   "outputs": [
    {
     "name": "stdout",
     "output_type": "stream",
     "text": [
      "array: [[1 2 3]\n",
      " [9 8 7]]\n"
     ]
    },
    {
     "data": {
      "text/plain": [
       "(array([ 1,  2,  3, 10,  8,  7]), array([[1, 2, 3],\n",
       "        [9, 8, 7]]))"
      ]
     },
     "execution_count": 78,
     "metadata": {},
     "output_type": "execute_result"
    }
   ],
   "source": [
    "p=np.array([[1,2,3],[9,8,7]])\n",
    "print('array:',p)\n",
    "d=p.flatten()\n",
    "d[3]=10\n",
    "d,p"
   ]
  },
  {
   "cell_type": "code",
   "execution_count": 81,
   "metadata": {},
   "outputs": [
    {
     "name": "stdout",
     "output_type": "stream",
     "text": [
      "2\n"
     ]
    },
    {
     "data": {
      "text/plain": [
       "0"
      ]
     },
     "execution_count": 81,
     "metadata": {},
     "output_type": "execute_result"
    }
   ],
   "source": [
    "k=np.array([12,34545,6745674,5687678,34523,647567])\n",
    "print(k.argmax())\n",
    "k.argmin()"
   ]
  },
  {
   "cell_type": "code",
   "execution_count": 98,
   "metadata": {},
   "outputs": [
    {
     "name": "stdout",
     "output_type": "stream",
     "text": [
      "[[     4      5      6]\n",
      " [  5674   3456    678]\n",
      " [  3456     34 645787]]\n",
      "Row wise: [2 0 2]\n",
      "coloumn wise: [1 1 2]\n"
     ]
    }
   ],
   "source": [
    "l=np.array([[4,5,6],[5674,3456,678],[3456,34,645787]])\n",
    "print(l)\n",
    "print('Row wise:',l.argmax(axis=1))\n",
    "print('coloumn wise:',l.argmax(axis=0))"
   ]
  },
  {
   "cell_type": "code",
   "execution_count": 104,
   "metadata": {},
   "outputs": [
    {
     "name": "stdout",
     "output_type": "stream",
     "text": [
      "[[  34   55   66]\n",
      " [   4   34  678]\n",
      " [3456   34    6]]\n",
      "Row wise: [0 0 2]\n",
      "coloumn wise: [1 1 2]\n"
     ]
    }
   ],
   "source": [
    "l=np.array([[34,55,66],[4,34,678],[3456,34,6]])\n",
    "print(l)\n",
    "print('Row wise:',l.argmin(axis=1))\n",
    "print('coloumn wise:',l.argmin(axis=0))"
   ]
  },
  {
   "cell_type": "code",
   "execution_count": 111,
   "metadata": {},
   "outputs": [
    {
     "name": "stdout",
     "output_type": "stream",
     "text": [
      "s-array: [[ 2  4  6]\n",
      " [ 6  8 10]]\n",
      "t-array: [[1 3 5]\n",
      " [5 7 9]]\n",
      "vertical: [[ 2  4  6]\n",
      " [ 6  8 10]\n",
      " [ 1  3  5]\n",
      " [ 5  7  9]]\n",
      "Horizontal [[ 2  4  6  1  3  5]\n",
      " [ 6  8 10  5  7  9]]\n"
     ]
    }
   ],
   "source": [
    "s=np.array([[2,4,6],[6,8,10]])\n",
    "t=np.array([[1,3,5],[5,7,9]])\n",
    "print('s-array:',s)\n",
    "print('t-array:',t)\n",
    "print('vertical:',np.vstack((s,t)))\n",
    "print('Horizontal',np.hstack((s,t)))"
   ]
  },
  {
   "cell_type": "code",
   "execution_count": null,
   "metadata": {},
   "outputs": [],
   "source": []
  }
 ],
 "metadata": {
  "kernelspec": {
   "display_name": "Python 3",
   "language": "python",
   "name": "python3"
  },
  "language_info": {
   "codemirror_mode": {
    "name": "ipython",
    "version": 3
   },
   "file_extension": ".py",
   "mimetype": "text/x-python",
   "name": "python",
   "nbconvert_exporter": "python",
   "pygments_lexer": "ipython3",
   "version": "3.7.3"
  }
 },
 "nbformat": 4,
 "nbformat_minor": 2
}
