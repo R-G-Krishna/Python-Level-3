{
 "cells": [
  {
   "cell_type": "markdown",
   "metadata": {},
   "source": [
    "# DATA ANALYSIS"
   ]
  },
  {
   "cell_type": "markdown",
   "metadata": {},
   "source": [
    "## Data: Information"
   ]
  },
  {
   "cell_type": "markdown",
   "metadata": {},
   "source": [
    "### Types of Data:\n",
    "-  1.Structure Data:\n",
    "   - Examples are student information,database files,csv data,excell data etc....\n",
    "- 2.Unstructure Data:\n",
    "   - Examples are images,videos,emails etc...."
   ]
  },
  {
   "cell_type": "markdown",
   "metadata": {},
   "source": [
    "## Python Libraries:\n",
    " - Toolboxes/Libraries:\n",
    "   - NUMPY\n",
    "   - SCI PY\n",
    "   - Pandas\n",
    "   - Scikit Learn\n",
    " -  Visualisation Libraries:\n",
    "    - Matplotlib\n",
    "    - seaborn"
   ]
  },
  {
   "cell_type": "markdown",
   "metadata": {},
   "source": [
    "## NUMPY\n",
    "\n",
    "  - NumPy is a general-purpose array-processing package. It provides a high-performance               multidimensional array object,and tools for working with these arrays. \n",
    "    It is thefundamental package for scientific computing with Python.\n",
    "    \n",
    "  - It is Foundational package for numerical computing in python.\n",
    "  \n",
    "  - NumPy uses much less memory to store data.\n",
    "  \n",
    "  - A numpy array is a grid of values, all of the same type, and is indexed by a tuple \n",
    "    of nonnegative integers...Numpy data structures perform better in\n",
    "     Size - Numpy data structures take up less space."
   ]
  },
  {
   "cell_type": "markdown",
   "metadata": {},
   "source": [
    "## Multidimensional Array\n",
    " - oneof the key features of NUMPY is its N-dimensional array object,or ndarray,which is            fast,flexible container for large database in python.Array enable you to perform                  mathematical operations on whole blocks of data with similar syntax to scalar values on          built-in python objects."
   ]
  },
  {
   "cell_type": "code",
   "execution_count": 9,
   "metadata": {},
   "outputs": [],
   "source": [
    "import numpy as np"
   ]
  },
  {
   "cell_type": "code",
   "execution_count": 18,
   "metadata": {},
   "outputs": [
    {
     "name": "stdout",
     "output_type": "stream",
     "text": [
      "5\n"
     ]
    }
   ],
   "source": [
    "a = np.array([1,2,3,4,5])\n",
    "print(a.size)"
   ]
  },
  {
   "cell_type": "code",
   "execution_count": 25,
   "metadata": {},
   "outputs": [
    {
     "name": "stdout",
     "output_type": "stream",
     "text": [
      "(3, 3)\n"
     ]
    }
   ],
   "source": [
    "b = np.array([[1,2,3],[3,4,5],[5,6,7]])\n",
    "print(b.shape)"
   ]
  },
  {
   "cell_type": "code",
   "execution_count": null,
   "metadata": {},
   "outputs": [],
   "source": []
  }
 ],
 "metadata": {
  "kernelspec": {
   "display_name": "Python 3",
   "language": "python",
   "name": "python3"
  },
  "language_info": {
   "codemirror_mode": {
    "name": "ipython",
    "version": 3
   },
   "file_extension": ".py",
   "mimetype": "text/x-python",
   "name": "python",
   "nbconvert_exporter": "python",
   "pygments_lexer": "ipython3",
   "version": "3.7.3"
  }
 },
 "nbformat": 4,
 "nbformat_minor": 2
}
