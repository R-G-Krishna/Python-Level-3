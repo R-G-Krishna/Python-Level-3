{
 "cells": [
  {
   "cell_type": "markdown",
   "metadata": {},
   "source": [
    "# DATA ANALYSIS"
   ]
  },
  {
   "cell_type": "markdown",
   "metadata": {},
   "source": [
    "## Data: Information"
   ]
  },
  {
   "cell_type": "markdown",
   "metadata": {},
   "source": [
    "### Types of Data:\n",
    "-  1.Structure Data:\n",
    "   - Examples are student information,database files,csv data,excell data etc....\n",
    "- 2.Unstructure Data:\n",
    "   - Examples are images,videos,emails etc...."
   ]
  },
  {
   "cell_type": "markdown",
   "metadata": {},
   "source": [
    "## Python Libraries:\n",
    " - Toolboxes/Libraries:\n",
    "   - NUMPY\n",
    "   - SCI PY\n",
    "   - Pandas\n",
    "   - Scikit Learn\n",
    " -  Visualisation Libraries:\n",
    "    - Matplotlib\n",
    "    - seaborn"
   ]
  },
  {
   "cell_type": "markdown",
   "metadata": {},
   "source": [
    "## NUMPY\n",
    "\n",
    "  - NumPy is a general-purpose array-processing package. It provides a high-performance               multidimensional array object,and tools for working with these arrays. \n",
    "    It is thefundamental package for scientific computing with Python.\n",
    "    \n",
    "  - It is Foundational package for numerical computing in python.\n",
    "  \n",
    "  - NumPy uses much less memory to store data.\n",
    "  \n",
    "  - A numpy array is a grid of values, all of the same type, and is indexed by a tuple \n",
    "    of nonnegative integers...Numpy data structures perform better in\n",
    "     Size - Numpy data structures take up less space."
   ]
  },
  {
   "cell_type": "markdown",
   "metadata": {},
   "source": [
    "## Multidimensional Array\n",
    " - oneof the key features of NUMPY is its N-dimensional array object,or ndarray,which is            fast,flexible container for large database in python.Array enable you to perform                  mathematical operations on whole blocks of data with similar syntax to scalar values on          built-in python objects."
   ]
  },
  {
   "cell_type": "code",
   "execution_count": 73,
   "metadata": {},
   "outputs": [],
   "source": [
    "import numpy as np"
   ]
  },
  {
   "cell_type": "code",
   "execution_count": 74,
   "metadata": {},
   "outputs": [
    {
     "name": "stdout",
     "output_type": "stream",
     "text": [
      "5\n",
      "1\n"
     ]
    }
   ],
   "source": [
    "a = np.array([1,2,3,4,5])\n",
    "print(a.size)\n",
    "print(a.ndim)"
   ]
  },
  {
   "cell_type": "code",
   "execution_count": 75,
   "metadata": {},
   "outputs": [
    {
     "name": "stdout",
     "output_type": "stream",
     "text": [
      "(3, 3)\n",
      "9\n",
      "2\n"
     ]
    }
   ],
   "source": [
    "b = np.array([[1,2,3],[3,4,5],[5,6,7]])\n",
    "print(b.shape)\n",
    "print(b.size)\n",
    "print(b.ndim)"
   ]
  },
  {
   "cell_type": "code",
   "execution_count": 76,
   "metadata": {},
   "outputs": [
    {
     "name": "stdout",
     "output_type": "stream",
     "text": [
      "3\n",
      "(1, 3, 3)\n",
      "9\n",
      "[[[1 2 3]]\n",
      "\n",
      " [[4 5 6]]\n",
      "\n",
      " [[7 8 9]]]\n"
     ]
    }
   ],
   "source": [
    "c =np.array([[[1,2,3],[4,5,6],[7,8,9]]])\n",
    "print(c.ndim)\n",
    "print(c.shape)# 1 is sets,3 is rows,3 is columns\n",
    "print(c.size)\n",
    "print(c.reshape(3,1,3))"
   ]
  },
  {
   "cell_type": "code",
   "execution_count": 77,
   "metadata": {},
   "outputs": [
    {
     "data": {
      "text/plain": [
       "array([[1, 2],\n",
       "       [3, 4],\n",
       "       [5, 6]])"
      ]
     },
     "execution_count": 77,
     "metadata": {},
     "output_type": "execute_result"
    }
   ],
   "source": [
    "d=np.array([[1,2,3],[4,5,6]])\n",
    "d.reshape(3,2)"
   ]
  },
  {
   "cell_type": "code",
   "execution_count": 78,
   "metadata": {},
   "outputs": [
    {
     "data": {
      "text/plain": [
       "array([[1., 2., 3.],\n",
       "       [4., 5., 6.]], dtype=float32)"
      ]
     },
     "execution_count": 78,
     "metadata": {},
     "output_type": "execute_result"
    }
   ],
   "source": [
    "f= np.array([[1,2,3],[4,5,'6']],dtype='float32')\n",
    "f"
   ]
  },
  {
   "cell_type": "code",
   "execution_count": 95,
   "metadata": {},
   "outputs": [
    {
     "name": "stdout",
     "output_type": "stream",
     "text": [
      "[[[1. 2. 3.]]\n",
      "\n",
      " [[4. 5. 6.]]\n",
      "\n",
      " [[7. 8. 9.]]]\n"
     ]
    }
   ],
   "source": [
    "e=np.array([1,2,3,4,5,6,7,8,9],dtype=float,ndmin=3).reshape(3,1,3)\n",
    "print(e)"
   ]
  },
  {
   "cell_type": "code",
   "execution_count": null,
   "metadata": {},
   "outputs": [],
   "source": []
  }
 ],
 "metadata": {
  "kernelspec": {
   "display_name": "Python 3",
   "language": "python",
   "name": "python3"
  },
  "language_info": {
   "codemirror_mode": {
    "name": "ipython",
    "version": 3
   },
   "file_extension": ".py",
   "mimetype": "text/x-python",
   "name": "python",
   "nbconvert_exporter": "python",
   "pygments_lexer": "ipython3",
   "version": "3.7.3"
  }
 },
 "nbformat": 4,
 "nbformat_minor": 2
}
