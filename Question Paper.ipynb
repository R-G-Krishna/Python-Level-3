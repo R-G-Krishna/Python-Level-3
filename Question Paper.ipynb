{
 "cells": [
  {
   "cell_type": "markdown",
   "metadata": {},
   "source": [
    "1. Write a Pandas program to change the order of index of a given series.\n",
    "2. Write a Python program to add, subtract, multiple and divide two Pandas\n",
    "Series.\n",
    "Sample Series: [2, 4, 6, 8, 10], [1, 3, 5, 7, 9]\n",
    "3. Write a Python program to convert a Panda module Series to Python list\n",
    "and it&#39;s type\n",
    "4. Write a Pandas program to select the rows where the score is missing, i.e.\n",
    "is NaN\n",
    "\n",
    "Sample Python dictionary data and list labels:\n",
    "\n",
    "exam_data = {&#39;name&#39;: [&#39;Sachin&#39;, &#39;Ganguly&#39;, &#39;Kohli&#39;, &#39;Johnson&#39;, &#39;Taylor&#39;,\n",
    "&#39;Waugh&#39;, &#39;Yuvraj&#39;, &#39;Kambli&#39;, &#39;Srinath&#39;, &#39;Munaf&#39;],\n",
    "&#39;score&#39;: [12.5, 9, 16.5, np.nan, 9, 20, 14.5, np.nan, 8, 19],\n",
    "&#39;attempts&#39;: [1, 3, 2, 3, 2, 3, 1, 1, 2, 1],\n",
    "&#39;qualify&#39;: [&#39;yes&#39;, &#39;no&#39;, &#39;yes&#39;, &#39;no&#39;, &#39;no&#39;, &#39;yes&#39;, &#39;yes&#39;, &#39;no&#39;, &#39;no&#39;, &#39;yes&#39;]}\n",
    "labels = [&#39;a&#39;, &#39;b&#39;, &#39;c&#39;, &#39;d&#39;, &#39;e&#39;, &#39;f&#39;, &#39;g&#39;, &#39;h&#39;, &#39;i&#39;, &#39;j&#39;]\n",
    "\n",
    "5. Write a Pandas program to create todays date\n",
    "\n",
    "6.Write a Pandas program to create a Pivot table, by considering Titanic Dataset\n",
    "\n",
    "7.Write a NumPy program to create a 3x3 matrix with values ranging from 2 to 10\n",
    "\n",
    "8.Illustrate the difference between ravel and flatten by taking considering\n",
    "multidimensional array.\n",
    "\n",
    "9. Create a 3×3 numpy array, find out the Minimum,Maximum values and also their\n",
    "indices accordingly for each axes. Also find out the Statistical methods such as\n",
    "Standard Deviation,Cumulative sum and product.\n",
    "10. Illustrate the concept of splitting by taking random positive values and also\n",
    "implementing different stacking methods on them."
   ]
  },
  {
   "cell_type": "code",
   "execution_count": null,
   "metadata": {},
   "outputs": [],
   "source": []
  }
 ],
 "metadata": {
  "kernelspec": {
   "display_name": "Python 3",
   "language": "python",
   "name": "python3"
  },
  "language_info": {
   "codemirror_mode": {
    "name": "ipython",
    "version": 3
   },
   "file_extension": ".py",
   "mimetype": "text/x-python",
   "name": "python",
   "nbconvert_exporter": "python",
   "pygments_lexer": "ipython3",
   "version": "3.7.3"
  }
 },
 "nbformat": 4,
 "nbformat_minor": 2
}
